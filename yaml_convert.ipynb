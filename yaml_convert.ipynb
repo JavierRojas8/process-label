{
 "cells": [
  {
   "cell_type": "code",
   "execution_count": 1,
   "id": "2ae4bdf1",
   "metadata": {},
   "outputs": [],
   "source": [
    "import os\n",
    "import pandas as pd\n",
    "from classmap import classmap"
   ]
  },
  {
   "cell_type": "code",
   "execution_count": 2,
   "id": "d83c5798",
   "metadata": {},
   "outputs": [],
   "source": [
    "path= \"Zippedi-3/train/labels/\"\n",
    "listdir=os.listdir(path)"
   ]
  },
  {
   "cell_type": "code",
   "execution_count": 3,
   "id": "411cb8b3",
   "metadata": {},
   "outputs": [
    {
     "name": "stdout",
     "output_type": "stream",
     "text": [
      "122\n"
     ]
    }
   ],
   "source": [
    "print(len(listdir))"
   ]
  },
  {
   "cell_type": "code",
   "execution_count": 4,
   "id": "8c9edc03",
   "metadata": {},
   "outputs": [],
   "source": [
    "classmap=classmap()"
   ]
  },
  {
   "cell_type": "code",
   "execution_count": 5,
   "id": "a8cb3600",
   "metadata": {},
   "outputs": [
    {
     "data": {
      "text/plain": [
       "dict"
      ]
     },
     "execution_count": 5,
     "metadata": {},
     "output_type": "execute_result"
    }
   ],
   "source": [
    "type(classmap)"
   ]
  },
  {
   "cell_type": "code",
   "execution_count": 6,
   "id": "67e99247",
   "metadata": {},
   "outputs": [],
   "source": [
    "def change_label(listdir,classmap):\n",
    "    for file_name in listdir:\n",
    "        try:\n",
    "            df=pd.read_csv(path + file_name,sep=\" \",header=None)\n",
    "        except:\n",
    "            continue\n",
    "        df[0]=df[0].replace(classmap)\n",
    "        df=df[df[0] != 1000]\n",
    "        yield df,file_name"
   ]
  },
  {
   "cell_type": "code",
   "execution_count": 7,
   "id": "75da2c75",
   "metadata": {},
   "outputs": [],
   "source": [
    "for df,file_name in change_label(listdir,classmap):\n",
    "    df.to_csv(path+file_name,sep=\" \",index=False, header=False)\n",
    "    "
   ]
  },
  {
   "cell_type": "code",
   "execution_count": null,
   "id": "fbf38189",
   "metadata": {},
   "outputs": [],
   "source": []
  }
 ],
 "metadata": {
  "kernelspec": {
   "display_name": "Python 3",
   "language": "python",
   "name": "python3"
  },
  "language_info": {
   "codemirror_mode": {
    "name": "ipython",
    "version": 3
   },
   "file_extension": ".py",
   "mimetype": "text/x-python",
   "name": "python",
   "nbconvert_exporter": "python",
   "pygments_lexer": "ipython3",
   "version": "3.8.8"
  }
 },
 "nbformat": 4,
 "nbformat_minor": 5
}
