{
 "cells": [
  {
   "cell_type": "code",
   "execution_count": 2,
   "id": "2dbac10a",
   "metadata": {},
   "outputs": [],
   "source": [
    "import json\n",
    "from classmap import classmap, categories"
   ]
  },
  {
   "cell_type": "code",
   "execution_count": 3,
   "id": "86ade4c9",
   "metadata": {},
   "outputs": [],
   "source": [
    "project_name = \"Zippedi-3\"\n",
    "f = open(project_name + \"/train/_annotations.coco.json\")\n",
    "annotation=json.load(f)"
   ]
  },
  {
   "cell_type": "code",
   "execution_count": 4,
   "id": "15ca585e",
   "metadata": {},
   "outputs": [],
   "source": [
    "classmap=classmap()\n",
    "categories= categories()"
   ]
  },
  {
   "cell_type": "code",
   "execution_count": 6,
   "id": "eae804b4",
   "metadata": {},
   "outputs": [],
   "source": [
    "annotation[\"categories\"] = categories\n",
    "for item in annotation[\"annotations\"]:\n",
    "    item[\"category_id\"]  = classmap[item[\"category_id\"] -1 ] +1  \n"
   ]
  },
  {
   "cell_type": "code",
   "execution_count": 8,
   "id": "190b593d",
   "metadata": {
    "scrolled": true
   },
   "outputs": [],
   "source": [
    "with open('json_data.json', 'w') as outfile:\n",
    "    json.dump(annotation, outfile)\n",
    "  "
   ]
  },
  {
   "cell_type": "code",
   "execution_count": null,
   "id": "d87130d8",
   "metadata": {},
   "outputs": [],
   "source": []
  }
 ],
 "metadata": {
  "kernelspec": {
   "display_name": "Python 3",
   "language": "python",
   "name": "python3"
  },
  "language_info": {
   "codemirror_mode": {
    "name": "ipython",
    "version": 3
   },
   "file_extension": ".py",
   "mimetype": "text/x-python",
   "name": "python",
   "nbconvert_exporter": "python",
   "pygments_lexer": "ipython3",
   "version": "3.8.8"
  }
 },
 "nbformat": 4,
 "nbformat_minor": 5
}
